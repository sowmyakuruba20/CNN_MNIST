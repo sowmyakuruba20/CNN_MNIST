{
  "nbformat": 4,
  "nbformat_minor": 0,
  "metadata": {
    "colab": {
      "provenance": [],
      "gpuType": "T4"
    },
    "kernelspec": {
      "name": "python3",
      "display_name": "Python 3"
    },
    "language_info": {
      "name": "python"
    },
    "accelerator": "GPU"
  },
  "cells": [
    {
      "cell_type": "markdown",
      "source": [
        "\n",
        "\n",
        "# **Assignment 2**\n",
        "\n"
      ],
      "metadata": {
        "id": "DjNl67jzTfj7"
      }
    },
    {
      "cell_type": "markdown",
      "source": [
        "Import necessary libraries"
      ],
      "metadata": {
        "id": "f2x4iNWDTr_u"
      }
    },
    {
      "cell_type": "code",
      "source": [
        "import numpy as np\n",
        "import tensorflow as tf\n",
        "import matplotlib.pyplot as plt\n",
        "from google.colab import drive\n",
        "\n",
        "from tensorflow.keras.datasets import fashion_mnist, cifar10\n",
        "from tensorflow.keras.models import Sequential, Model\n",
        "from tensorflow.keras.layers import Conv2D, MaxPooling2D, Flatten, Dense, BatchNormalization, Dropout, GlobalAveragePooling2D, Input, Activation, Concatenate, Add, UpSampling2D\n",
        "from tensorflow.keras.utils import to_categorical\n",
        "from tensorflow.keras.optimizers import Adam, Adagrad\n",
        "from tensorflow.keras.preprocessing.image import ImageDataGenerator\n",
        "from tensorflow.keras.applications import VGG16\n",
        "from tensorflow.keras.models import load_model\n"
      ],
      "metadata": {
        "id": "1NlEJiJNThUw"
      },
      "execution_count": 6,
      "outputs": []
    },
    {
      "cell_type": "markdown",
      "source": [
        "Problem 1: Apply the following models on the Fashion Mnist Dataset. Train the model with the training data and evaluate the model with the test data."
      ],
      "metadata": {
        "id": "OI0-hS3BTixt"
      }
    },
    {
      "cell_type": "markdown",
      "source": [
        "Load Fashion MNIST Dataset"
      ],
      "metadata": {
        "id": "htMB3kYoT5cZ"
      }
    },
    {
      "cell_type": "code",
      "source": [
        "# Load and preprocess the Fashion MNIST dataset\n",
        "\n",
        "(train_images, train_labels), (test_images, test_labels) = fashion_mnist.load_data()\n",
        "\n",
        "# reshaping the image and specifying the gray scale, Normalizing the pixels to range between 0 and 1\n",
        "train_images = train_images.reshape((train_images.shape[0], 28, 28, 1)).astype('float32') / 255\n",
        "test_images = test_images.reshape((test_images.shape[0], 28, 28, 1)).astype('float32') / 255\n",
        "\n",
        "# one-hot encoding of labels\n",
        "train_labels = to_categorical(train_labels)\n",
        "test_labels = to_categorical(test_labels)\n"
      ],
      "metadata": {
        "id": "9M9nPq6hT21V"
      },
      "execution_count": 34,
      "outputs": []
    },
    {
      "cell_type": "markdown",
      "source": [
        "Construct a CNN Model"
      ],
      "metadata": {
        "id": "2wEQNKvugQMo"
      }
    },
    {
      "cell_type": "markdown",
      "source": [
        "a. CNN model from scratch: Develop a CNN model with 4 convolutional layers (with kernel size= 3, stride =1, padding = “same”, activation function = “relu”) with following MaxPooling layer (Size= 2) and 3 fully connected layer (including one output layer). After each of the Convolutional layer apply Batch Normalization. In the fully connected layer apply dropout (rate 0.50). Show the learning curve. Report performance evaluation on the test data. 3 pts"
      ],
      "metadata": {
        "id": "V8t1E9EzhqSl"
      }
    },
    {
      "cell_type": "code",
      "source": [
        "def create_model():\n",
        "  model = Sequential([\n",
        "\n",
        "    # Convolutional layers 1 with Input layer for grey scaling, Batch Normalization and MaxPooling\n",
        "      Conv2D(32, kernel_size=(3, 3), strides=(1, 1), padding='same', activation='relu', input_shape=(28, 28, 1)),\n",
        "      BatchNormalization(),\n",
        "      MaxPooling2D(pool_size=(2, 2)),\n",
        "\n",
        "    # Convolutional layers 2 with Batch Normalization and MaxPooling\n",
        "      Conv2D(64, (3, 3), strides=(1, 1), padding='same', activation='relu'),\n",
        "      BatchNormalization(),\n",
        "      MaxPooling2D(pool_size=(2, 2)),\n",
        "\n",
        "    # Convolutional layers 3 with Batch Normalization and MaxPooling\n",
        "      Conv2D(128, (3, 3), strides=(1, 1), padding='same', activation='relu'),\n",
        "      BatchNormalization(),\n",
        "      MaxPooling2D(pool_size=(2, 2)),\n",
        "\n",
        "      # Convolutional layers 4 with Batch Normalization and MaxPooling\n",
        "      Conv2D(256, (3, 3), strides=(1, 1), padding='same', activation='relu'),\n",
        "      BatchNormalization(),\n",
        "      MaxPooling2D(pool_size=(2, 2)),\n",
        "\n",
        "      # Flatten and fully connected layers with dropout\n",
        "      Flatten(),\n",
        "      Dense(512, activation='relu'),\n",
        "      Dropout(0.5),\n",
        "      Dense(128, activation='relu'),\n",
        "      Dropout(0.5),\n",
        "\n",
        "      # Output layer with 10 classes for Fashion MNIST\n",
        "      Dense(10, activation='softmax')\n",
        "  ])\n",
        "  return model"
      ],
      "metadata": {
        "id": "4UQmtt5ldhnR"
      },
      "execution_count": 35,
      "outputs": []
    },
    {
      "cell_type": "markdown",
      "source": [
        "CNN Model Summary"
      ],
      "metadata": {
        "id": "mgZpaoxyV6w_"
      }
    },
    {
      "cell_type": "code",
      "source": [
        "model = create_model()\n",
        "model.summary()"
      ],
      "metadata": {
        "colab": {
          "base_uri": "https://localhost:8080/"
        },
        "id": "gCDkDf3pi1eq",
        "outputId": "b347141a-263c-41fd-cae4-37b646da3633"
      },
      "execution_count": 37,
      "outputs": [
        {
          "output_type": "stream",
          "name": "stdout",
          "text": [
            "Model: \"sequential\"\n",
            "_________________________________________________________________\n",
            " Layer (type)                Output Shape              Param #   \n",
            "=================================================================\n",
            " conv2d_75 (Conv2D)          (None, 28, 28, 32)        320       \n",
            "                                                                 \n",
            " batch_normalization_75 (Ba  (None, 28, 28, 32)        128       \n",
            " tchNormalization)                                               \n",
            "                                                                 \n",
            " max_pooling2d (MaxPooling2  (None, 14, 14, 32)        0         \n",
            " D)                                                              \n",
            "                                                                 \n",
            " conv2d_76 (Conv2D)          (None, 14, 14, 64)        18496     \n",
            "                                                                 \n",
            " batch_normalization_76 (Ba  (None, 14, 14, 64)        256       \n",
            " tchNormalization)                                               \n",
            "                                                                 \n",
            " max_pooling2d_1 (MaxPoolin  (None, 7, 7, 64)          0         \n",
            " g2D)                                                            \n",
            "                                                                 \n",
            " conv2d_77 (Conv2D)          (None, 7, 7, 128)         73856     \n",
            "                                                                 \n",
            " batch_normalization_77 (Ba  (None, 7, 7, 128)         512       \n",
            " tchNormalization)                                               \n",
            "                                                                 \n",
            " max_pooling2d_2 (MaxPoolin  (None, 3, 3, 128)         0         \n",
            " g2D)                                                            \n",
            "                                                                 \n",
            " conv2d_78 (Conv2D)          (None, 3, 3, 256)         295168    \n",
            "                                                                 \n",
            " batch_normalization_78 (Ba  (None, 3, 3, 256)         1024      \n",
            " tchNormalization)                                               \n",
            "                                                                 \n",
            " max_pooling2d_3 (MaxPoolin  (None, 1, 1, 256)         0         \n",
            " g2D)                                                            \n",
            "                                                                 \n",
            " flatten (Flatten)           (None, 256)               0         \n",
            "                                                                 \n",
            " dense_7 (Dense)             (None, 512)               131584    \n",
            "                                                                 \n",
            " dropout (Dropout)           (None, 512)               0         \n",
            "                                                                 \n",
            " dense_8 (Dense)             (None, 128)               65664     \n",
            "                                                                 \n",
            " dropout_1 (Dropout)         (None, 128)               0         \n",
            "                                                                 \n",
            " dense_9 (Dense)             (None, 10)                1290      \n",
            "                                                                 \n",
            "=================================================================\n",
            "Total params: 588298 (2.24 MB)\n",
            "Trainable params: 587338 (2.24 MB)\n",
            "Non-trainable params: 960 (3.75 KB)\n",
            "_________________________________________________________________\n"
          ]
        }
      ]
    },
    {
      "cell_type": "markdown",
      "source": [
        "**Conv2D Layers:** These are the convolutional layers that will extract features from the images. Each has a specified number of filters (e.g., 32, 64, 128, 256), a kernel size of 3x3, stride of 1, padding set to 'same' (input and output dimensions are the same), and the ReLU activation function.\n",
        "\n",
        "**BatchNormalization:** Applied after each Conv2D layer to stabilize and speed up the training process by normalizing the inputs of each layer.\n",
        "\n",
        "**MaxPooling2D:** Follows each convolutional layer (except the last convolutional layer set) to reduce the spatial dimensions (height and width) of the input volume for the next layer.\n",
        "\n",
        "**Flatten:** Converts the 3D feature maps to 1D feature vectors to be fed into the fully connected layers.\n",
        "\n",
        "**Dense Layers:** Fully connected layers that learn non-linear combinations of the high-level features extracted by the convolutional layers. Dropout is applied to reduce overfitting by randomly setting a fraction (0.5) of input units to 0 at each update during training time.\n",
        "\n",
        "**Output Layer:** The final Dense layer with 10 units (one for each class of the Fashion MNIST dataset) and a softmax activation function to output a probability distribution over the 10 classes."
      ],
      "metadata": {
        "id": "xJu-hrMCiThI"
      }
    },
    {
      "cell_type": "markdown",
      "source": [
        "Compile and Train the Model"
      ],
      "metadata": {
        "id": "Ki-WVPbXgtYV"
      }
    },
    {
      "cell_type": "code",
      "source": [
        "model.compile(optimizer=Adam(), loss='categorical_crossentropy', metrics=['accuracy'])\n",
        "history = model.fit(train_images, train_labels, epochs=10, batch_size=32, validation_split=0.2)\n"
      ],
      "metadata": {
        "colab": {
          "base_uri": "https://localhost:8080/"
        },
        "id": "X4x6E3b2doFz",
        "outputId": "87042532-41a6-4f4f-a5be-053f9901283b"
      },
      "execution_count": 5,
      "outputs": [
        {
          "output_type": "stream",
          "name": "stdout",
          "text": [
            "Epoch 1/10\n",
            "750/750 [==============================] - 160s 208ms/step - loss: 0.5631 - accuracy: 0.8051 - val_loss: 0.3437 - val_accuracy: 0.8792\n",
            "Epoch 2/10\n",
            "750/750 [==============================] - 145s 193ms/step - loss: 0.3354 - accuracy: 0.8849 - val_loss: 0.2859 - val_accuracy: 0.8942\n",
            "Epoch 3/10\n",
            "750/750 [==============================] - 152s 202ms/step - loss: 0.2849 - accuracy: 0.9007 - val_loss: 0.2850 - val_accuracy: 0.8956\n",
            "Epoch 4/10\n",
            "750/750 [==============================] - 153s 204ms/step - loss: 0.2489 - accuracy: 0.9120 - val_loss: 0.2908 - val_accuracy: 0.8882\n",
            "Epoch 5/10\n",
            "750/750 [==============================] - 167s 222ms/step - loss: 0.2318 - accuracy: 0.9193 - val_loss: 0.2653 - val_accuracy: 0.9074\n",
            "Epoch 6/10\n",
            "750/750 [==============================] - 162s 216ms/step - loss: 0.2081 - accuracy: 0.9276 - val_loss: 0.2487 - val_accuracy: 0.9098\n",
            "Epoch 7/10\n",
            "750/750 [==============================] - 160s 213ms/step - loss: 0.1901 - accuracy: 0.9326 - val_loss: 0.2534 - val_accuracy: 0.9116\n",
            "Epoch 8/10\n",
            "750/750 [==============================] - 165s 220ms/step - loss: 0.1689 - accuracy: 0.9390 - val_loss: 0.2800 - val_accuracy: 0.9065\n",
            "Epoch 9/10\n",
            "750/750 [==============================] - 163s 218ms/step - loss: 0.1561 - accuracy: 0.9458 - val_loss: 0.2562 - val_accuracy: 0.9135\n",
            "Epoch 10/10\n",
            "750/750 [==============================] - 145s 194ms/step - loss: 0.1437 - accuracy: 0.9490 - val_loss: 0.2545 - val_accuracy: 0.9166\n"
          ]
        }
      ]
    },
    {
      "cell_type": "markdown",
      "source": [
        " Evaluate the Model"
      ],
      "metadata": {
        "id": "4Wxd_-rxi7vO"
      }
    },
    {
      "cell_type": "code",
      "source": [
        "test_loss, test_acc = model.evaluate(test_images, test_labels)\n",
        "print(f'Test Accuracy: {test_acc*100:.2f}%')\n"
      ],
      "metadata": {
        "colab": {
          "base_uri": "https://localhost:8080/"
        },
        "id": "awNzCnVVdwDR",
        "outputId": "e1c31fa6-ef93-4e28-d0ea-8df38223c896"
      },
      "execution_count": 6,
      "outputs": [
        {
          "output_type": "stream",
          "name": "stdout",
          "text": [
            "313/313 [==============================] - 9s 27ms/step - loss: 0.2906 - accuracy: 0.9127\n",
            "Test Accuracy: 91.27%\n"
          ]
        }
      ]
    },
    {
      "cell_type": "markdown",
      "source": [
        "The model achieved 91.27% accuracy which is good"
      ],
      "metadata": {
        "id": "CNFBDmKubNgg"
      }
    },
    {
      "cell_type": "markdown",
      "source": [
        "\n",
        "\n",
        "\n",
        "Plot the Learning Curves\n",
        "\n"
      ],
      "metadata": {
        "id": "N9W8QOGRi5pI"
      }
    },
    {
      "cell_type": "code",
      "source": [
        "plt.figure(figsize=(12, 5))\n",
        "plt.subplot(1, 2, 1)\n",
        "plt.plot(history.history['accuracy'], label='Training Accuracy')\n",
        "plt.plot(history.history['val_accuracy'], label='Validation Accuracy')\n",
        "plt.title('Accuracy')\n",
        "plt.ylim([0, 1])\n",
        "plt.legend(loc='lower right')\n",
        "plt.legend()\n",
        "\n",
        "plt.subplot(1, 2, 2)\n",
        "plt.plot(history.history['loss'], label='Training Loss')\n",
        "plt.plot(history.history['val_loss'], label='Validation Loss')\n",
        "plt.title('Loss')\n",
        "plt.ylim([0, 1])\n",
        "plt.legend(loc='lower right')\n",
        "plt.legend()\n",
        "plt.show()"
      ],
      "metadata": {
        "colab": {
          "base_uri": "https://localhost:8080/",
          "height": 468
        },
        "id": "2YwOB1Xrdx6P",
        "outputId": "326c794d-3fbd-4fb4-8108-bad412043127"
      },
      "execution_count": 11,
      "outputs": [
        {
          "output_type": "display_data",
          "data": {
            "text/plain": [
              "<Figure size 1200x500 with 2 Axes>"
            ],
            "image/png": "[encoded data removed]"
          },
          "metadata": {}
        }
      ]
    },
    {
      "cell_type": "markdown",
      "source": [
        "We can observe that the performance of the model is gradually increasing as the model is traind for increasing epochs. The loss is gradually decreasing as the model is learning."
      ],
      "metadata": {
        "id": "IXgikV_EWbF4"
      }
    },
    {
      "cell_type": "markdown",
      "source": [
        "b. Apply grid search on the CNN model to find the optimal set of hyperparameters that produce the max performance on the test data. You must train the model using the training data and evaluate model performance using the test dataset. Use grid search for hyperparameter tuning with the following: 3 pts You should not use any inbuilt package (like gridsearch) for grid search hyperparameter tuning. Write a for loop and find all possible combinations results.\n",
        "Activation function for Hidden Layer:ReLU,\n",
        "optimizer:Adam,Adagrad\n",
        "Mini-batch size:4,8,16,32\n",
        "Learning rate:0.001, 0.0001"
      ],
      "metadata": {
        "id": "hTnBeirck5pV"
      }
    },
    {
      "cell_type": "markdown",
      "source": [
        "Define Hyperparameters"
      ],
      "metadata": {
        "id": "fjJa7Re1Wr0z"
      }
    },
    {
      "cell_type": "code",
      "source": [
        "# Define hyperparameters to tune\n",
        "activation_finction = 'relu'\n",
        "optimizers = {'adam': Adam, 'adagrad': Adagrad}\n",
        "batch_sizes = [4, 8, 16, 32]\n",
        "learning_rates = [0.001, 0.0001]"
      ],
      "metadata": {
        "id": "voS2MJWAmgjJ"
      },
      "execution_count": 38,
      "outputs": []
    },
    {
      "cell_type": "code",
      "source": [
        "# Function to create model\n",
        "def build_model(optimizer_name, learning_rate):\n",
        "    model = Sequential([\n",
        "        Conv2D(32, kernel_size=(3, 3), strides=(1, 1), padding='same', activation='relu', input_shape=(28, 28, 1)),\n",
        "        BatchNormalization(),\n",
        "        MaxPooling2D(pool_size=(2, 2)),\n",
        "        Conv2D(64, (3, 3), strides=(1, 1), padding='same', activation='relu'),\n",
        "        BatchNormalization(),\n",
        "        MaxPooling2D(pool_size=(2, 2)),\n",
        "        Conv2D(128, (3, 3), strides=(1, 1), padding='same', activation='relu'),\n",
        "        BatchNormalization(),\n",
        "        MaxPooling2D(pool_size=(2, 2)),\n",
        "        Conv2D(256, (3, 3), strides=(1, 1), padding='same', activation='relu'),\n",
        "        BatchNormalization(),\n",
        "        MaxPooling2D(pool_size=(2, 2)),\n",
        "        Flatten(),\n",
        "        Dense(512, activation='relu'),\n",
        "        Dropout(0.5),\n",
        "        Dense(128, activation='relu'),\n",
        "        Dropout(0.5),\n",
        "        Dense(10, activation='softmax')\n",
        "    ])\n",
        "    optimizer = optimizers[optimizer_name](learning_rate=learning_rate)\n",
        "    model.compile(optimizer=optimizer, loss='categorical_crossentropy', metrics=['accuracy'])\n",
        "    return model"
      ],
      "metadata": {
        "id": "AnjoCqz_pPTJ"
      },
      "execution_count": 2,
      "outputs": []
    },
    {
      "cell_type": "code",
      "source": [
        "# Grid search\n",
        "best_accuracy = 0\n",
        "best_hyperparams = {}\n",
        "\n",
        "for optimizer_name in optimizers.keys():\n",
        "    for batch_size in batch_sizes:\n",
        "        for learning_rate in learning_rates:\n",
        "            model = build_model(optimizer_name, learning_rate)\n",
        "            model.fit(train_images, train_labels, epochs=1, batch_size=batch_size, verbose=0)\n",
        "            test_loss, test_acc = model.evaluate(test_images, test_labels, verbose=0)\n",
        "            print(f\"Optimizer: {optimizer_name}, Batch Size: {batch_size}, Learning Rate: {learning_rate}, Test Accuracy: {test_acc}\")\n",
        "\n",
        "            if test_acc > best_accuracy:\n",
        "                best_accuracy = test_acc\n",
        "                best_hyperparams = {'optimizer': optimizer_name, 'batch_size': batch_size, 'learning_rate': learning_rate}\n",
        "\n",
        "print(f\"Best Accuracy: {best_accuracy}\")\n",
        "print(f\"Best Hyperparameters: {best_hyperparams}\")"
      ],
      "metadata": {
        "colab": {
          "base_uri": "https://localhost:8080/"
        },
        "id": "NF35-3_HnJ0U",
        "outputId": "061d3b11-4ec3-4a82-ecf2-16656987d76d"
      },
      "execution_count": 40,
      "outputs": [
        {
          "output_type": "stream",
          "name": "stdout",
          "text": [
            "Optimizer: adam, Batch Size: 4, Learning Rate: 0.001, Test Accuracy: 0.8565999865531921\n",
            "Optimizer: adam, Batch Size: 4, Learning Rate: 0.0001, Test Accuracy: 0.867900013923645\n",
            "Optimizer: adam, Batch Size: 8, Learning Rate: 0.001, Test Accuracy: 0.8684999942779541\n",
            "Optimizer: adam, Batch Size: 8, Learning Rate: 0.0001, Test Accuracy: 0.8737999796867371\n",
            "Optimizer: adam, Batch Size: 16, Learning Rate: 0.001, Test Accuracy: 0.8162000179290771\n",
            "Optimizer: adam, Batch Size: 16, Learning Rate: 0.0001, Test Accuracy: 0.8614000082015991\n",
            "Optimizer: adam, Batch Size: 32, Learning Rate: 0.001, Test Accuracy: 0.8654000163078308\n",
            "Optimizer: adam, Batch Size: 32, Learning Rate: 0.0001, Test Accuracy: 0.8639000058174133\n",
            "Optimizer: adagrad, Batch Size: 4, Learning Rate: 0.001, Test Accuracy: 0.8341000080108643\n",
            "Optimizer: adagrad, Batch Size: 4, Learning Rate: 0.0001, Test Accuracy: 0.7235000133514404\n",
            "Optimizer: adagrad, Batch Size: 8, Learning Rate: 0.001, Test Accuracy: 0.8348000049591064\n",
            "Optimizer: adagrad, Batch Size: 8, Learning Rate: 0.0001, Test Accuracy: 0.7389000058174133\n",
            "Optimizer: adagrad, Batch Size: 16, Learning Rate: 0.001, Test Accuracy: 0.8395000100135803\n",
            "Optimizer: adagrad, Batch Size: 16, Learning Rate: 0.0001, Test Accuracy: 0.7174000144004822\n",
            "Optimizer: adagrad, Batch Size: 32, Learning Rate: 0.001, Test Accuracy: 0.8266000151634216\n",
            "Optimizer: adagrad, Batch Size: 32, Learning Rate: 0.0001, Test Accuracy: 0.715499997138977\n",
            "Best Accuracy: 0.8737999796867371\n",
            "Best Hyperparameters: {'optimizer': 'adam', 'batch_size': 8, 'learning_rate': 0.0001}\n"
          ]
        }
      ]
    },
    {
      "cell_type": "markdown",
      "source": [
        "We can conclude form the above experiment that best parameters for a CNN model on 5 epochs are 'optimizer': 'adam', 'batch_size': 8, 'learning_rate': 0.0001 with the best accuracy of 87.37% which is exceptable"
      ],
      "metadata": {
        "id": "0r8RBRs7XB-M"
      }
    },
    {
      "cell_type": "markdown",
      "source": [
        "**c. Data Augmentation**: Apply five different image augmentation techniques on the Fashion Mnist train data to augment it and then apply the previously designed (from a) model on it. 2 pts"
      ],
      "metadata": {
        "id": "e7ZZ3R7sp594"
      }
    },
    {
      "cell_type": "markdown",
      "source": [
        "Performing data augmentation such as\n",
        "1. Random rotation between 0 and 10 degrees\n",
        "2. Random horizontal shift\n",
        "3. Random vertical shift\n",
        "4. Randomly flip inputs horizontally\n",
        "5. Random zoom\n",
        "\n"
      ],
      "metadata": {
        "id": "EndzfZQ4XroF"
      }
    },
    {
      "cell_type": "code",
      "source": [
        "# Create an instance of ImageDataGenerator with desired augmentations\n",
        "datagen = ImageDataGenerator(\n",
        "    rotation_range=10,\n",
        "    width_shift_range=0.1,\n",
        "    height_shift_range=0.1,\n",
        "    zoom_range=0.1,\n",
        "    horizontal_flip=True,\n",
        ")"
      ],
      "metadata": {
        "id": "n1kiyF5mpv6d"
      },
      "execution_count": 10,
      "outputs": []
    },
    {
      "cell_type": "markdown",
      "source": [
        "compile model and fit the model with augmented data"
      ],
      "metadata": {
        "id": "7kIu1cAPYLxV"
      }
    },
    {
      "cell_type": "code",
      "source": [
        "model = create_model()\n",
        "model.compile(optimizer=Adam(), loss='categorical_crossentropy', metrics=['accuracy'])\n",
        "history = model.fit(datagen.flow(train_images, train_labels, batch_size=32), epochs=10)"
      ],
      "metadata": {
        "colab": {
          "base_uri": "https://localhost:8080/"
        },
        "id": "APL4luu5qlew",
        "outputId": "4d7677ab-b66a-4145-d9a5-9301dcf2c0c1"
      },
      "execution_count": 21,
      "outputs": [
        {
          "output_type": "stream",
          "name": "stdout",
          "text": [
            "Epoch 1/10\n",
            "938/938 [==============================] - 28s 27ms/step - loss: 0.7344 - accuracy: 0.7352\n",
            "Epoch 2/10\n",
            "938/938 [==============================] - 23s 25ms/step - loss: 0.4902 - accuracy: 0.8234\n",
            "Epoch 3/10\n",
            "938/938 [==============================] - 24s 26ms/step - loss: 0.4290 - accuracy: 0.8472\n",
            "Epoch 4/10\n",
            "938/938 [==============================] - 24s 25ms/step - loss: 0.3873 - accuracy: 0.8623\n",
            "Epoch 5/10\n",
            "938/938 [==============================] - 24s 25ms/step - loss: 0.3699 - accuracy: 0.8686\n",
            "Epoch 6/10\n",
            "938/938 [==============================] - 24s 25ms/step - loss: 0.3557 - accuracy: 0.8731\n",
            "Epoch 7/10\n",
            "938/938 [==============================] - 25s 27ms/step - loss: 0.3434 - accuracy: 0.8770\n",
            "Epoch 8/10\n",
            "938/938 [==============================] - 24s 25ms/step - loss: 0.3333 - accuracy: 0.8799\n",
            "Epoch 9/10\n",
            "938/938 [==============================] - 23s 25ms/step - loss: 0.3207 - accuracy: 0.8856\n",
            "Epoch 10/10\n",
            "938/938 [==============================] - 24s 26ms/step - loss: 0.3124 - accuracy: 0.8895\n"
          ]
        }
      ]
    },
    {
      "cell_type": "markdown",
      "source": [
        "Test the augmented model"
      ],
      "metadata": {
        "id": "G6Nh1mbFYXdG"
      }
    },
    {
      "cell_type": "code",
      "source": [
        "test_loss, test_acc = model.evaluate(test_images, test_labels)\n",
        "print(f'Test Accuracy: {test_acc*100:.2f}%')"
      ],
      "metadata": {
        "colab": {
          "base_uri": "https://localhost:8080/"
        },
        "id": "cwI5g48mzaY9",
        "outputId": "fd16716b-576f-47fb-9835-cde803678bc6"
      },
      "execution_count": 22,
      "outputs": [
        {
          "output_type": "stream",
          "name": "stdout",
          "text": [
            "313/313 [==============================] - 1s 3ms/step - loss: 0.5140 - accuracy: 0.8506\n",
            "Test Accuracy: 85.06%\n"
          ]
        }
      ]
    },
    {
      "cell_type": "markdown",
      "source": [
        "The accuracy of the augmented model is less when compared to the plain CNN model from part a"
      ],
      "metadata": {
        "id": "ltjyp2nwYW9Q"
      }
    },
    {
      "cell_type": "markdown",
      "source": [
        "d. Transfer Learning: Load the VGG-16 model. Drop after final pooling layer and on top of it add one global average pooling layer and one fully connected layer, and one final output layer. Keep the base model layers (VGG16) freeze. 2 pts"
      ],
      "metadata": {
        "id": "XZienZyPw4Yr"
      }
    },
    {
      "cell_type": "markdown",
      "source": [
        "Reshape the input and convert images to 3 channels"
      ],
      "metadata": {
        "id": "kLNjD83BYjiL"
      }
    },
    {
      "cell_type": "code",
      "source": [
        "# Load Fashion MNIST data\n",
        "(train_images, train_labels), (test_images, test_labels) = fashion_mnist.load_data()\n",
        "\n",
        "# Convert images to 3 channels and resize (Example for resizing to 48x48)\n",
        "train_images = np.repeat(train_images[..., np.newaxis], 3, axis=-1)\n",
        "train_images = tf.image.resize(train_images, (48, 48)).numpy()\n",
        "test_images = np.repeat(test_images[..., np.newaxis], 3, axis=-1)\n",
        "test_images = tf.image.resize(test_images, (48, 48)).numpy()\n",
        "\n",
        "# Normalize the data\n",
        "train_images = train_images.astype('float32') / 255\n",
        "test_images = test_images.astype('float32') / 255\n",
        "\n",
        "train_labels = to_categorical(train_labels)\n",
        "test_labels = to_categorical(test_labels)"
      ],
      "metadata": {
        "id": "CpU-t-7B0Avu"
      },
      "execution_count": 3,
      "outputs": []
    },
    {
      "cell_type": "markdown",
      "source": [
        "Load existing VGG16 model, define an input shape, freeze the base model and add GlobalAveragePooling, Fully connected layer and output layer to the freezed model"
      ],
      "metadata": {
        "id": "sIZpFjsyYpRQ"
      }
    },
    {
      "cell_type": "code",
      "source": [
        "# Load VGG16 model, excluding its top layer (the classification layers)\n",
        "base_model1 = VGG16()\n",
        "base_model = VGG16(weights='imagenet', include_top=False, input_shape=(48, 48, 3))\n",
        "\n",
        "# Freeze the base model layers\n",
        "base_model.trainable = False\n",
        "\n",
        "# Add custom layers on top of VGG16\n",
        "x = base_model.output\n",
        "x = GlobalAveragePooling2D()(x)\n",
        "x = Dense(256, activation='relu')(x)\n",
        "output = Dense(10, activation='softmax')(x)\n",
        "model = Model(inputs=base_model.input, outputs=output)"
      ],
      "metadata": {
        "id": "Cc0zFj0N0AyQ"
      },
      "execution_count": 44,
      "outputs": []
    },
    {
      "cell_type": "markdown",
      "source": [
        "Summary of base VGG16 Model, for imagenet. We can see that the imahe size is 224,224."
      ],
      "metadata": {
        "id": "eS_3UVI5Y7cc"
      }
    },
    {
      "cell_type": "code",
      "source": [
        "base_model1.summary()"
      ],
      "metadata": {
        "colab": {
          "base_uri": "https://localhost:8080/"
        },
        "id": "ocVeaLW9NeBC",
        "outputId": "781dee2e-2565-4035-9bbd-b80328c7cca2"
      },
      "execution_count": 45,
      "outputs": [
        {
          "output_type": "stream",
          "name": "stdout",
          "text": [
            "Model: \"vgg16\"\n",
            "_________________________________________________________________\n",
            " Layer (type)                Output Shape              Param #   \n",
            "=================================================================\n",
            " input_8 (InputLayer)        [(None, 224, 224, 3)]     0         \n",
            "                                                                 \n",
            " block1_conv1 (Conv2D)       (None, 224, 224, 64)      1792      \n",
            "                                                                 \n",
            " block1_conv2 (Conv2D)       (None, 224, 224, 64)      36928     \n",
            "                                                                 \n",
            " block1_pool (MaxPooling2D)  (None, 112, 112, 64)      0         \n",
            "                                                                 \n",
            " block2_conv1 (Conv2D)       (None, 112, 112, 128)     73856     \n",
            "                                                                 \n",
            " block2_conv2 (Conv2D)       (None, 112, 112, 128)     147584    \n",
            "                                                                 \n",
            " block2_pool (MaxPooling2D)  (None, 56, 56, 128)       0         \n",
            "                                                                 \n",
            " block3_conv1 (Conv2D)       (None, 56, 56, 256)       295168    \n",
            "                                                                 \n",
            " block3_conv2 (Conv2D)       (None, 56, 56, 256)       590080    \n",
            "                                                                 \n",
            " block3_conv3 (Conv2D)       (None, 56, 56, 256)       590080    \n",
            "                                                                 \n",
            " block3_pool (MaxPooling2D)  (None, 28, 28, 256)       0         \n",
            "                                                                 \n",
            " block4_conv1 (Conv2D)       (None, 28, 28, 512)       1180160   \n",
            "                                                                 \n",
            " block4_conv2 (Conv2D)       (None, 28, 28, 512)       2359808   \n",
            "                                                                 \n",
            " block4_conv3 (Conv2D)       (None, 28, 28, 512)       2359808   \n",
            "                                                                 \n",
            " block4_pool (MaxPooling2D)  (None, 14, 14, 512)       0         \n",
            "                                                                 \n",
            " block5_conv1 (Conv2D)       (None, 14, 14, 512)       2359808   \n",
            "                                                                 \n",
            " block5_conv2 (Conv2D)       (None, 14, 14, 512)       2359808   \n",
            "                                                                 \n",
            " block5_conv3 (Conv2D)       (None, 14, 14, 512)       2359808   \n",
            "                                                                 \n",
            " block5_pool (MaxPooling2D)  (None, 7, 7, 512)         0         \n",
            "                                                                 \n",
            " flatten (Flatten)           (None, 25088)             0         \n",
            "                                                                 \n",
            " fc1 (Dense)                 (None, 4096)              102764544 \n",
            "                                                                 \n",
            " fc2 (Dense)                 (None, 4096)              16781312  \n",
            "                                                                 \n",
            " predictions (Dense)         (None, 1000)              4097000   \n",
            "                                                                 \n",
            "=================================================================\n",
            "Total params: 138357544 (527.79 MB)\n",
            "Trainable params: 138357544 (527.79 MB)\n",
            "Non-trainable params: 0 (0.00 Byte)\n",
            "_________________________________________________________________\n"
          ]
        }
      ]
    },
    {
      "cell_type": "markdown",
      "source": [
        "Summary of VGG16 model after making changes for Fashion Mnist dataset, We can have a minimum of 32 and maximum of 224 as input size for VGG16 model. We are using a input size of 48*48"
      ],
      "metadata": {
        "id": "VAnOUbhfZdEo"
      }
    },
    {
      "cell_type": "code",
      "source": [
        "model.summary()"
      ],
      "metadata": {
        "colab": {
          "base_uri": "https://localhost:8080/"
        },
        "id": "DQso5kvKNeHu",
        "outputId": "5af7e97f-5f89-4cc9-95e4-1827e62b07d8"
      },
      "execution_count": 9,
      "outputs": [
        {
          "output_type": "stream",
          "name": "stdout",
          "text": [
            "Model: \"model_1\"\n",
            "_________________________________________________________________\n",
            " Layer (type)                Output Shape              Param #   \n",
            "=================================================================\n",
            " input_2 (InputLayer)        [(None, 48, 48, 3)]       0         \n",
            "                                                                 \n",
            " block1_conv1 (Conv2D)       (None, 48, 48, 64)        1792      \n",
            "                                                                 \n",
            " block1_conv2 (Conv2D)       (None, 48, 48, 64)        36928     \n",
            "                                                                 \n",
            " block1_pool (MaxPooling2D)  (None, 24, 24, 64)        0         \n",
            "                                                                 \n",
            " block2_conv1 (Conv2D)       (None, 24, 24, 128)       73856     \n",
            "                                                                 \n",
            " block2_conv2 (Conv2D)       (None, 24, 24, 128)       147584    \n",
            "                                                                 \n",
            " block2_pool (MaxPooling2D)  (None, 12, 12, 128)       0         \n",
            "                                                                 \n",
            " block3_conv1 (Conv2D)       (None, 12, 12, 256)       295168    \n",
            "                                                                 \n",
            " block3_conv2 (Conv2D)       (None, 12, 12, 256)       590080    \n",
            "                                                                 \n",
            " block3_conv3 (Conv2D)       (None, 12, 12, 256)       590080    \n",
            "                                                                 \n",
            " block3_pool (MaxPooling2D)  (None, 6, 6, 256)         0         \n",
            "                                                                 \n",
            " block4_conv1 (Conv2D)       (None, 6, 6, 512)         1180160   \n",
            "                                                                 \n",
            " block4_conv2 (Conv2D)       (None, 6, 6, 512)         2359808   \n",
            "                                                                 \n",
            " block4_conv3 (Conv2D)       (None, 6, 6, 512)         2359808   \n",
            "                                                                 \n",
            " block4_pool (MaxPooling2D)  (None, 3, 3, 512)         0         \n",
            "                                                                 \n",
            " block5_conv1 (Conv2D)       (None, 3, 3, 512)         2359808   \n",
            "                                                                 \n",
            " block5_conv2 (Conv2D)       (None, 3, 3, 512)         2359808   \n",
            "                                                                 \n",
            " block5_conv3 (Conv2D)       (None, 3, 3, 512)         2359808   \n",
            "                                                                 \n",
            " block5_pool (MaxPooling2D)  (None, 1, 1, 512)         0         \n",
            "                                                                 \n",
            " global_average_pooling2d_1  (None, 512)               0         \n",
            "  (GlobalAveragePooling2D)                                       \n",
            "                                                                 \n",
            " dense_2 (Dense)             (None, 256)               131328    \n",
            "                                                                 \n",
            " dense_3 (Dense)             (None, 10)                2570      \n",
            "                                                                 \n",
            "=================================================================\n",
            "Total params: 14848586 (56.64 MB)\n",
            "Trainable params: 133898 (523.04 KB)\n",
            "Non-trainable params: 14714688 (56.13 MB)\n",
            "_________________________________________________________________\n"
          ]
        }
      ]
    },
    {
      "cell_type": "markdown",
      "source": [
        "Compile , train and evaluate the accuracy of transfer learning VGG16 model"
      ],
      "metadata": {
        "id": "yZR86MUxZx0Q"
      }
    },
    {
      "cell_type": "code",
      "source": [
        "# Compile the model\n",
        "model.compile(optimizer='adam', loss='categorical_crossentropy', metrics=['accuracy'])\n",
        "\n",
        "# Train the model\n",
        "model.fit(train_images, train_labels, epochs=5, batch_size=32, validation_split=0.2)\n",
        "\n",
        "# Evaluate the model on the test data\n",
        "test_loss, test_acc = model.evaluate(test_images, test_labels)\n",
        "print(f'Test accuracy: {test_acc}')"
      ],
      "metadata": {
        "colab": {
          "base_uri": "https://localhost:8080/"
        },
        "id": "5T2PQ7h10A04",
        "outputId": "e39b6050-6ff9-45f2-cbc5-e1d57aec62b8"
      },
      "execution_count": 6,
      "outputs": [
        {
          "output_type": "stream",
          "name": "stdout",
          "text": [
            "Epoch 1/5\n",
            "1500/1500 [==============================] - 29s 17ms/step - loss: 0.5009 - accuracy: 0.8217 - val_loss: 0.4065 - val_accuracy: 0.8539\n",
            "Epoch 2/5\n",
            "1500/1500 [==============================] - 23s 15ms/step - loss: 0.3796 - accuracy: 0.8615 - val_loss: 0.3923 - val_accuracy: 0.8564\n",
            "Epoch 3/5\n",
            "1500/1500 [==============================] - 23s 16ms/step - loss: 0.3451 - accuracy: 0.8739 - val_loss: 0.3693 - val_accuracy: 0.8651\n",
            "Epoch 4/5\n",
            "1500/1500 [==============================] - 24s 16ms/step - loss: 0.3214 - accuracy: 0.8819 - val_loss: 0.3538 - val_accuracy: 0.8711\n",
            "Epoch 5/5\n",
            "1500/1500 [==============================] - 23s 15ms/step - loss: 0.3018 - accuracy: 0.8886 - val_loss: 0.3321 - val_accuracy: 0.8802\n",
            "313/313 [==============================] - 5s 15ms/step - loss: 0.3601 - accuracy: 0.8739\n",
            "Test accuracy: 0.8738999962806702\n"
          ]
        }
      ]
    },
    {
      "cell_type": "markdown",
      "source": [
        "The test accuracy is 87.3% which is good"
      ],
      "metadata": {
        "id": "FW9YVDhsMg5v"
      }
    },
    {
      "cell_type": "markdown",
      "source": [
        "Problem 2 (10 pts): Developing ResNet model from scratch using CIFAR10 dataset\n",
        "Apply a residual network specified in the following architecture. All convolutional layers use\n",
        "kernel size 3, stride = 1, and padding = “same”,"
      ],
      "metadata": {
        "id": "lryCnpu6MhHm"
      }
    },
    {
      "cell_type": "markdown",
      "source": [
        "drive link for .h5 model : https://drive.google.com/file/d/1vuzTm89esvkktVuhsO1SSAgjwD21Q3On/view?usp=drive_link\n"
      ],
      "metadata": {
        "id": "vBlmNGLXloBR"
      }
    },
    {
      "cell_type": "markdown",
      "source": [
        "Load and preprocess CIFAR-10 dataset\n"
      ],
      "metadata": {
        "id": "L2p9lJ-kZ8_7"
      }
    },
    {
      "cell_type": "code",
      "source": [
        "# Load and preprocess CIFAR-10 dataset\n",
        "(x_train_cifar, y_train_cifar), (x_test_cifar, y_test_cifar) = cifar10.load_data()\n",
        "\n",
        "x_train_cifar = x_train_cifar / 255.0\n",
        "x_test_cifar = x_test_cifar / 255.0\n",
        "\n",
        "y_train_cifar_one_hot = to_categorical(y_train_cifar, num_classes=10)\n",
        "y_test_cifar_one_hot = to_categorical(y_test_cifar, num_classes=10)"
      ],
      "metadata": {
        "colab": {
          "base_uri": "https://localhost:8080/"
        },
        "id": "O6hAOtSHMnPT",
        "outputId": "9292fc02-2af0-4b8e-d7ee-7317d0c6b312"
      },
      "execution_count": 7,
      "outputs": [
        {
          "output_type": "stream",
          "name": "stdout",
          "text": [
            "Downloading data from https://www.cs.toronto.edu/~kriz/cifar-10-python.tar.gz\n",
            "170498071/170498071 [==============================] - 2s 0us/step\n"
          ]
        }
      ]
    },
    {
      "cell_type": "markdown",
      "source": [
        "Build RESNET model"
      ],
      "metadata": {
        "id": "h40wlvmcaGTp"
      }
    },
    {
      "cell_type": "code",
      "source": [
        "# Build RESNET model\n",
        "def residual_unit(x, filters):\n",
        "    shortcut = x\n",
        "\n",
        "    x = Conv2D(filters, kernel_size=3, padding='same')(x)\n",
        "    x = BatchNormalization()(x)\n",
        "    x = Activation('relu')(x)\n",
        "\n",
        "    x = Conv2D(filters, kernel_size=3, padding='same')(x)\n",
        "    x = BatchNormalization()(x)\n",
        "\n",
        "    if shortcut.shape[-1] != filters:\n",
        "        shortcut = Conv2D(filters, kernel_size=1, padding='same')(shortcut)\n",
        "        shortcut = BatchNormalization()(shortcut)\n",
        "\n",
        "    x = Concatenate()([shortcut, x])\n",
        "    x = Activation('relu')(x)\n",
        "\n",
        "    return x\n",
        "\n",
        "def resnet():\n",
        "    input = Input(shape=(32, 32, 3))\n",
        "\n",
        "    x = Conv2D(32, kernel_size=3, padding='same')(input)\n",
        "    x = BatchNormalization()(x)\n",
        "    x = Activation('relu')(x)\n",
        "\n",
        "    for _ in range(3):\n",
        "        x = residual_unit(x, 32)\n",
        "\n",
        "    for _ in range(3):\n",
        "        x = residual_unit(x, 64)\n",
        "\n",
        "    for _ in range(3):\n",
        "        x = residual_unit(x, 128)\n",
        "\n",
        "    x = GlobalAveragePooling2D()(x)\n",
        "\n",
        "    output = Dense(10, activation='softmax')(x)\n",
        "\n",
        "    model = Model(inputs=input, outputs=output)\n",
        "    return model"
      ],
      "metadata": {
        "id": "gvDL3_x_MnRn"
      },
      "execution_count": 8,
      "outputs": []
    },
    {
      "cell_type": "markdown",
      "source": [
        "Compile and train the model"
      ],
      "metadata": {
        "id": "aqDPSpt0aCr_"
      }
    },
    {
      "cell_type": "code",
      "source": [
        "modeld = resnet()\n",
        "# compiling the model\n",
        "modeld.compile(optimizer='adam', loss='categorical_crossentropy', metrics=['accuracy'])"
      ],
      "metadata": {
        "id": "O7OStaBeMnUB"
      },
      "execution_count": 9,
      "outputs": []
    },
    {
      "cell_type": "code",
      "source": [
        "historyd = modeld.fit(x_train_cifar, y_train_cifar_one_hot, batch_size=32, epochs=5, validation_split=0.2)"
      ],
      "metadata": {
        "colab": {
          "base_uri": "https://localhost:8080/"
        },
        "id": "gAmZaHgHO0nA",
        "outputId": "a8204732-64f7-43f9-8ad3-301cb3698ca3"
      },
      "execution_count": 19,
      "outputs": [
        {
          "output_type": "stream",
          "name": "stdout",
          "text": [
            "Epoch 1/5\n",
            "1250/1250 [==============================] - 129s 88ms/step - loss: 1.4357 - accuracy: 0.4706 - val_loss: 1.7239 - val_accuracy: 0.4449\n",
            "Epoch 2/5\n",
            "1250/1250 [==============================] - 109s 87ms/step - loss: 1.0351 - accuracy: 0.6317 - val_loss: 1.6384 - val_accuracy: 0.5199\n",
            "Epoch 3/5\n",
            "1250/1250 [==============================] - 109s 87ms/step - loss: 0.8604 - accuracy: 0.6976 - val_loss: 2.9545 - val_accuracy: 0.4063\n",
            "Epoch 4/5\n",
            "1250/1250 [==============================] - 108s 87ms/step - loss: 0.7402 - accuracy: 0.7387 - val_loss: 1.2697 - val_accuracy: 0.6179\n",
            "Epoch 5/5\n",
            "1250/1250 [==============================] - 108s 86ms/step - loss: 0.6401 - accuracy: 0.7781 - val_loss: 1.4810 - val_accuracy: 0.4860\n"
          ]
        }
      ]
    },
    {
      "cell_type": "code",
      "source": [
        "modeld.summary()"
      ],
      "metadata": {
        "colab": {
          "base_uri": "https://localhost:8080/"
        },
        "id": "nYKdZfBTjFTk",
        "outputId": "c6625bd1-9f24-496e-d97d-dcdf3ac3367d"
      },
      "execution_count": 10,
      "outputs": [
        {
          "output_type": "stream",
          "name": "stdout",
          "text": [
            "Model: \"model\"\n",
            "__________________________________________________________________________________________________\n",
            " Layer (type)                Output Shape                 Param #   Connected to                  \n",
            "==================================================================================================\n",
            " input_1 (InputLayer)        [(None, 32, 32, 3)]          0         []                            \n",
            "                                                                                                  \n",
            " conv2d (Conv2D)             (None, 32, 32, 32)           896       ['input_1[0][0]']             \n",
            "                                                                                                  \n",
            " batch_normalization (Batch  (None, 32, 32, 32)           128       ['conv2d[0][0]']              \n",
            " Normalization)                                                                                   \n",
            "                                                                                                  \n",
            " activation (Activation)     (None, 32, 32, 32)           0         ['batch_normalization[0][0]'] \n",
            "                                                                                                  \n",
            " conv2d_1 (Conv2D)           (None, 32, 32, 32)           9248      ['activation[0][0]']          \n",
            "                                                                                                  \n",
            " batch_normalization_1 (Bat  (None, 32, 32, 32)           128       ['conv2d_1[0][0]']            \n",
            " chNormalization)                                                                                 \n",
            "                                                                                                  \n",
            " activation_1 (Activation)   (None, 32, 32, 32)           0         ['batch_normalization_1[0][0]'\n",
            "                                                                    ]                             \n",
            "                                                                                                  \n",
            " conv2d_2 (Conv2D)           (None, 32, 32, 32)           9248      ['activation_1[0][0]']        \n",
            "                                                                                                  \n",
            " batch_normalization_2 (Bat  (None, 32, 32, 32)           128       ['conv2d_2[0][0]']            \n",
            " chNormalization)                                                                                 \n",
            "                                                                                                  \n",
            " concatenate (Concatenate)   (None, 32, 32, 64)           0         ['activation[0][0]',          \n",
            "                                                                     'batch_normalization_2[0][0]'\n",
            "                                                                    ]                             \n",
            "                                                                                                  \n",
            " activation_2 (Activation)   (None, 32, 32, 64)           0         ['concatenate[0][0]']         \n",
            "                                                                                                  \n",
            " conv2d_3 (Conv2D)           (None, 32, 32, 32)           18464     ['activation_2[0][0]']        \n",
            "                                                                                                  \n",
            " batch_normalization_3 (Bat  (None, 32, 32, 32)           128       ['conv2d_3[0][0]']            \n",
            " chNormalization)                                                                                 \n",
            "                                                                                                  \n",
            " activation_3 (Activation)   (None, 32, 32, 32)           0         ['batch_normalization_3[0][0]'\n",
            "                                                                    ]                             \n",
            "                                                                                                  \n",
            " conv2d_5 (Conv2D)           (None, 32, 32, 32)           2080      ['activation_2[0][0]']        \n",
            "                                                                                                  \n",
            " conv2d_4 (Conv2D)           (None, 32, 32, 32)           9248      ['activation_3[0][0]']        \n",
            "                                                                                                  \n",
            " batch_normalization_5 (Bat  (None, 32, 32, 32)           128       ['conv2d_5[0][0]']            \n",
            " chNormalization)                                                                                 \n",
            "                                                                                                  \n",
            " batch_normalization_4 (Bat  (None, 32, 32, 32)           128       ['conv2d_4[0][0]']            \n",
            " chNormalization)                                                                                 \n",
            "                                                                                                  \n",
            " concatenate_1 (Concatenate  (None, 32, 32, 64)           0         ['batch_normalization_5[0][0]'\n",
            " )                                                                  , 'batch_normalization_4[0][0]\n",
            "                                                                    ']                            \n",
            "                                                                                                  \n",
            " activation_4 (Activation)   (None, 32, 32, 64)           0         ['concatenate_1[0][0]']       \n",
            "                                                                                                  \n",
            " conv2d_6 (Conv2D)           (None, 32, 32, 32)           18464     ['activation_4[0][0]']        \n",
            "                                                                                                  \n",
            " batch_normalization_6 (Bat  (None, 32, 32, 32)           128       ['conv2d_6[0][0]']            \n",
            " chNormalization)                                                                                 \n",
            "                                                                                                  \n",
            " activation_5 (Activation)   (None, 32, 32, 32)           0         ['batch_normalization_6[0][0]'\n",
            "                                                                    ]                             \n",
            "                                                                                                  \n",
            " conv2d_8 (Conv2D)           (None, 32, 32, 32)           2080      ['activation_4[0][0]']        \n",
            "                                                                                                  \n",
            " conv2d_7 (Conv2D)           (None, 32, 32, 32)           9248      ['activation_5[0][0]']        \n",
            "                                                                                                  \n",
            " batch_normalization_8 (Bat  (None, 32, 32, 32)           128       ['conv2d_8[0][0]']            \n",
            " chNormalization)                                                                                 \n",
            "                                                                                                  \n",
            " batch_normalization_7 (Bat  (None, 32, 32, 32)           128       ['conv2d_7[0][0]']            \n",
            " chNormalization)                                                                                 \n",
            "                                                                                                  \n",
            " concatenate_2 (Concatenate  (None, 32, 32, 64)           0         ['batch_normalization_8[0][0]'\n",
            " )                                                                  , 'batch_normalization_7[0][0]\n",
            "                                                                    ']                            \n",
            "                                                                                                  \n",
            " activation_6 (Activation)   (None, 32, 32, 64)           0         ['concatenate_2[0][0]']       \n",
            "                                                                                                  \n",
            " conv2d_9 (Conv2D)           (None, 32, 32, 64)           36928     ['activation_6[0][0]']        \n",
            "                                                                                                  \n",
            " batch_normalization_9 (Bat  (None, 32, 32, 64)           256       ['conv2d_9[0][0]']            \n",
            " chNormalization)                                                                                 \n",
            "                                                                                                  \n",
            " activation_7 (Activation)   (None, 32, 32, 64)           0         ['batch_normalization_9[0][0]'\n",
            "                                                                    ]                             \n",
            "                                                                                                  \n",
            " conv2d_10 (Conv2D)          (None, 32, 32, 64)           36928     ['activation_7[0][0]']        \n",
            "                                                                                                  \n",
            " batch_normalization_10 (Ba  (None, 32, 32, 64)           256       ['conv2d_10[0][0]']           \n",
            " tchNormalization)                                                                                \n",
            "                                                                                                  \n",
            " concatenate_3 (Concatenate  (None, 32, 32, 128)          0         ['activation_6[0][0]',        \n",
            " )                                                                   'batch_normalization_10[0][0]\n",
            "                                                                    ']                            \n",
            "                                                                                                  \n",
            " activation_8 (Activation)   (None, 32, 32, 128)          0         ['concatenate_3[0][0]']       \n",
            "                                                                                                  \n",
            " conv2d_11 (Conv2D)          (None, 32, 32, 64)           73792     ['activation_8[0][0]']        \n",
            "                                                                                                  \n",
            " batch_normalization_11 (Ba  (None, 32, 32, 64)           256       ['conv2d_11[0][0]']           \n",
            " tchNormalization)                                                                                \n",
            "                                                                                                  \n",
            " activation_9 (Activation)   (None, 32, 32, 64)           0         ['batch_normalization_11[0][0]\n",
            "                                                                    ']                            \n",
            "                                                                                                  \n",
            " conv2d_13 (Conv2D)          (None, 32, 32, 64)           8256      ['activation_8[0][0]']        \n",
            "                                                                                                  \n",
            " conv2d_12 (Conv2D)          (None, 32, 32, 64)           36928     ['activation_9[0][0]']        \n",
            "                                                                                                  \n",
            " batch_normalization_13 (Ba  (None, 32, 32, 64)           256       ['conv2d_13[0][0]']           \n",
            " tchNormalization)                                                                                \n",
            "                                                                                                  \n",
            " batch_normalization_12 (Ba  (None, 32, 32, 64)           256       ['conv2d_12[0][0]']           \n",
            " tchNormalization)                                                                                \n",
            "                                                                                                  \n",
            " concatenate_4 (Concatenate  (None, 32, 32, 128)          0         ['batch_normalization_13[0][0]\n",
            " )                                                                  ',                            \n",
            "                                                                     'batch_normalization_12[0][0]\n",
            "                                                                    ']                            \n",
            "                                                                                                  \n",
            " activation_10 (Activation)  (None, 32, 32, 128)          0         ['concatenate_4[0][0]']       \n",
            "                                                                                                  \n",
            " conv2d_14 (Conv2D)          (None, 32, 32, 64)           73792     ['activation_10[0][0]']       \n",
            "                                                                                                  \n",
            " batch_normalization_14 (Ba  (None, 32, 32, 64)           256       ['conv2d_14[0][0]']           \n",
            " tchNormalization)                                                                                \n",
            "                                                                                                  \n",
            " activation_11 (Activation)  (None, 32, 32, 64)           0         ['batch_normalization_14[0][0]\n",
            "                                                                    ']                            \n",
            "                                                                                                  \n",
            " conv2d_16 (Conv2D)          (None, 32, 32, 64)           8256      ['activation_10[0][0]']       \n",
            "                                                                                                  \n",
            " conv2d_15 (Conv2D)          (None, 32, 32, 64)           36928     ['activation_11[0][0]']       \n",
            "                                                                                                  \n",
            " batch_normalization_16 (Ba  (None, 32, 32, 64)           256       ['conv2d_16[0][0]']           \n",
            " tchNormalization)                                                                                \n",
            "                                                                                                  \n",
            " batch_normalization_15 (Ba  (None, 32, 32, 64)           256       ['conv2d_15[0][0]']           \n",
            " tchNormalization)                                                                                \n",
            "                                                                                                  \n",
            " concatenate_5 (Concatenate  (None, 32, 32, 128)          0         ['batch_normalization_16[0][0]\n",
            " )                                                                  ',                            \n",
            "                                                                     'batch_normalization_15[0][0]\n",
            "                                                                    ']                            \n",
            "                                                                                                  \n",
            " activation_12 (Activation)  (None, 32, 32, 128)          0         ['concatenate_5[0][0]']       \n",
            "                                                                                                  \n",
            " conv2d_17 (Conv2D)          (None, 32, 32, 128)          147584    ['activation_12[0][0]']       \n",
            "                                                                                                  \n",
            " batch_normalization_17 (Ba  (None, 32, 32, 128)          512       ['conv2d_17[0][0]']           \n",
            " tchNormalization)                                                                                \n",
            "                                                                                                  \n",
            " activation_13 (Activation)  (None, 32, 32, 128)          0         ['batch_normalization_17[0][0]\n",
            "                                                                    ']                            \n",
            "                                                                                                  \n",
            " conv2d_18 (Conv2D)          (None, 32, 32, 128)          147584    ['activation_13[0][0]']       \n",
            "                                                                                                  \n",
            " batch_normalization_18 (Ba  (None, 32, 32, 128)          512       ['conv2d_18[0][0]']           \n",
            " tchNormalization)                                                                                \n",
            "                                                                                                  \n",
            " concatenate_6 (Concatenate  (None, 32, 32, 256)          0         ['activation_12[0][0]',       \n",
            " )                                                                   'batch_normalization_18[0][0]\n",
            "                                                                    ']                            \n",
            "                                                                                                  \n",
            " activation_14 (Activation)  (None, 32, 32, 256)          0         ['concatenate_6[0][0]']       \n",
            "                                                                                                  \n",
            " conv2d_19 (Conv2D)          (None, 32, 32, 128)          295040    ['activation_14[0][0]']       \n",
            "                                                                                                  \n",
            " batch_normalization_19 (Ba  (None, 32, 32, 128)          512       ['conv2d_19[0][0]']           \n",
            " tchNormalization)                                                                                \n",
            "                                                                                                  \n",
            " activation_15 (Activation)  (None, 32, 32, 128)          0         ['batch_normalization_19[0][0]\n",
            "                                                                    ']                            \n",
            "                                                                                                  \n",
            " conv2d_21 (Conv2D)          (None, 32, 32, 128)          32896     ['activation_14[0][0]']       \n",
            "                                                                                                  \n",
            " conv2d_20 (Conv2D)          (None, 32, 32, 128)          147584    ['activation_15[0][0]']       \n",
            "                                                                                                  \n",
            " batch_normalization_21 (Ba  (None, 32, 32, 128)          512       ['conv2d_21[0][0]']           \n",
            " tchNormalization)                                                                                \n",
            "                                                                                                  \n",
            " batch_normalization_20 (Ba  (None, 32, 32, 128)          512       ['conv2d_20[0][0]']           \n",
            " tchNormalization)                                                                                \n",
            "                                                                                                  \n",
            " concatenate_7 (Concatenate  (None, 32, 32, 256)          0         ['batch_normalization_21[0][0]\n",
            " )                                                                  ',                            \n",
            "                                                                     'batch_normalization_20[0][0]\n",
            "                                                                    ']                            \n",
            "                                                                                                  \n",
            " activation_16 (Activation)  (None, 32, 32, 256)          0         ['concatenate_7[0][0]']       \n",
            "                                                                                                  \n",
            " conv2d_22 (Conv2D)          (None, 32, 32, 128)          295040    ['activation_16[0][0]']       \n",
            "                                                                                                  \n",
            " batch_normalization_22 (Ba  (None, 32, 32, 128)          512       ['conv2d_22[0][0]']           \n",
            " tchNormalization)                                                                                \n",
            "                                                                                                  \n",
            " activation_17 (Activation)  (None, 32, 32, 128)          0         ['batch_normalization_22[0][0]\n",
            "                                                                    ']                            \n",
            "                                                                                                  \n",
            " conv2d_24 (Conv2D)          (None, 32, 32, 128)          32896     ['activation_16[0][0]']       \n",
            "                                                                                                  \n",
            " conv2d_23 (Conv2D)          (None, 32, 32, 128)          147584    ['activation_17[0][0]']       \n",
            "                                                                                                  \n",
            " batch_normalization_24 (Ba  (None, 32, 32, 128)          512       ['conv2d_24[0][0]']           \n",
            " tchNormalization)                                                                                \n",
            "                                                                                                  \n",
            " batch_normalization_23 (Ba  (None, 32, 32, 128)          512       ['conv2d_23[0][0]']           \n",
            " tchNormalization)                                                                                \n",
            "                                                                                                  \n",
            " concatenate_8 (Concatenate  (None, 32, 32, 256)          0         ['batch_normalization_24[0][0]\n",
            " )                                                                  ',                            \n",
            "                                                                     'batch_normalization_23[0][0]\n",
            "                                                                    ']                            \n",
            "                                                                                                  \n",
            " activation_18 (Activation)  (None, 32, 32, 256)          0         ['concatenate_8[0][0]']       \n",
            "                                                                                                  \n",
            " global_average_pooling2d (  (None, 256)                  0         ['activation_18[0][0]']       \n",
            " GlobalAveragePooling2D)                                                                          \n",
            "                                                                                                  \n",
            " dense (Dense)               (None, 10)                   2570      ['global_average_pooling2d[0][\n",
            "                                                                    0]']                          \n",
            "                                                                                                  \n",
            "==================================================================================================\n",
            "Total params: 1646858 (6.28 MB)\n",
            "Trainable params: 1643210 (6.27 MB)\n",
            "Non-trainable params: 3648 (14.25 KB)\n",
            "__________________________________________________________________________________________________\n"
          ]
        }
      ]
    },
    {
      "cell_type": "markdown",
      "source": [
        "Evaluate the model"
      ],
      "metadata": {
        "id": "aJdVdnoLcA4r"
      }
    },
    {
      "cell_type": "code",
      "source": [
        "# evaluating the performance of model in test data\n",
        "\n",
        "test_evald = modeld.evaluate(x_train_cifar,y_train_cifar_one_hot, verbose=0)"
      ],
      "metadata": {
        "id": "QIWmdQTCcBAn"
      },
      "execution_count": 46,
      "outputs": []
    },
    {
      "cell_type": "code",
      "source": [
        "print('Test loss:', test_evald[0])\n",
        "print('Test accuracy:', test_evald[1])"
      ],
      "metadata": {
        "colab": {
          "base_uri": "https://localhost:8080/"
        },
        "id": "Do6-c2FKcPJ2",
        "outputId": "65606a62-29b1-47ca-e170-8519c8bdb8cc"
      },
      "execution_count": 47,
      "outputs": [
        {
          "output_type": "stream",
          "name": "stdout",
          "text": [
            "Test loss: 1.4475492238998413\n",
            "Test accuracy: 0.49549999833106995\n"
          ]
        }
      ]
    },
    {
      "cell_type": "markdown",
      "source": [
        "The model gives an accuracy of 49% which is poor. and a training loss of 1.447."
      ],
      "metadata": {
        "id": "flHx_KlYcEHc"
      }
    },
    {
      "cell_type": "markdown",
      "source": [
        "Store the model as a .h5 file in the drive to infer while testing"
      ],
      "metadata": {
        "id": "_HGkWB0RaMFy"
      }
    },
    {
      "cell_type": "code",
      "source": [
        "drive.mount('/content/drive')\n",
        "\n",
        "# Save the model to Google Drive\n",
        "modeld.save('/content/drive/My Drive/DL/ResNet.h5')"
      ],
      "metadata": {
        "colab": {
          "base_uri": "https://localhost:8080/"
        },
        "id": "DQovzMISPV7e",
        "outputId": "9f308f52-2664-4303-ac94-b886d53babd0"
      },
      "execution_count": 22,
      "outputs": [
        {
          "output_type": "stream",
          "name": "stdout",
          "text": [
            "Mounted at /content/drive\n"
          ]
        },
        {
          "output_type": "stream",
          "name": "stderr",
          "text": [
            "/usr/local/lib/python3.10/dist-packages/keras/src/engine/training.py:3103: UserWarning: You are saving your model as an HDF5 file via `model.save()`. This file format is considered legacy. We recommend using instead the native Keras format, e.g. `model.save('my_model.keras')`.\n",
            "  saving_api.save_model(\n"
          ]
        }
      ]
    },
    {
      "cell_type": "markdown",
      "source": [
        "Testing the predictions by infering the saved model"
      ],
      "metadata": {
        "id": "yqgHnn63VDVh"
      }
    },
    {
      "cell_type": "code",
      "source": [
        "from tensorflow.keras.models import load_model\n",
        "\n",
        "# Load the trained ResNet model\n",
        "cifar_trainedmodel = load_model('/content/drive/My Drive/DL/ResNet.h5')\n",
        "\n",
        "# Make predictions on the testing data\n",
        "predictiond = cifar_trainedmodel.predict(x_test_cifar)\n",
        "predictiond = np.argmax(np.round(predictiond), axis=1)\n",
        "\n",
        "# Dictionary to match class numbers with items\n",
        "items_dict = {\n",
        "    0: 'Airplane', 1: 'Automobile', 2: 'Bird', 3: 'Cat', 4: 'Deer',\n",
        "    5: 'Dog', 6: 'Frog', 7: 'Horse', 8: 'Ship', 9: 'Truck'\n",
        "}\n",
        "\n",
        "# Mapping actual labels numbers to items\n",
        "y_testcifar1 = [items_dict[label[0]] for label in y_test_cifar]\n",
        "predictiond1 = [items_dict[prediction.argmax()] for prediction in predictiond]\n",
        "\n",
        "def show_image(image):\n",
        "    plt.imshow(image)\n",
        "    plt.axis('off')\n",
        "    plt.show()\n",
        "\n",
        "# Printing first nine predicted and actual values\n",
        "for i in range(9):\n",
        "    print(\"Actual Value is\", y_testcifar1[i])\n",
        "    print(\"Predicted Value is\", predictiond1[i])\n",
        "    plt.subplot(3, 3, i + 1)\n",
        "    show_image(x_test_cifar[i])\n",
        "    print(\"------------------\")\n",
        "    print(\"\\n\")\n"
      ],
      "metadata": {
        "colab": {
          "base_uri": "https://localhost:8080/",
          "height": 1000
        },
        "id": "hJTtOkL_UCyD",
        "outputId": "2236a473-ebc0-4997-c37d-8c022c22f25e"
      },
      "execution_count": 32,
      "outputs": [
        {
          "output_type": "stream",
          "name": "stdout",
          "text": [
            "313/313 [==============================] - 8s 24ms/step\n",
            "Actual Value is Cat\n",
            "Predicted Value is Airplane\n"
          ]
        },
        {
          "output_type": "display_data",
          "data": {
            "text/plain": [
              "<Figure size 640x480 with 1 Axes>"
            ],
            "image/png": "[encoded data removed]"
          },
          "metadata": {}
        },
        {
          "output_type": "stream",
          "name": "stdout",
          "text": [
            "------------------\n",
            "\n",
            "\n",
            "Actual Value is Ship\n",
            "Predicted Value is Airplane\n"
          ]
        },
        {
          "output_type": "display_data",
          "data": {
            "text/plain": [
              "<Figure size 640x480 with 1 Axes>"
            ],
            "image/png": "[encoded data removed]"
          },
          "metadata": {}
        },
        {
          "output_type": "stream",
          "name": "stdout",
          "text": [
            "------------------\n",
            "\n",
            "\n",
            "Actual Value is Ship\n",
            "Predicted Value is Airplane\n"
          ]
        },
        {
          "output_type": "display_data",
          "data": {
            "text/plain": [
              "<Figure size 640x480 with 1 Axes>"
            ],
            "image/png": "[encoded data removed]"
          },
          "metadata": {}
        },
        {
          "output_type": "stream",
          "name": "stdout",
          "text": [
            "------------------\n",
            "\n",
            "\n",
            "Actual Value is Airplane\n",
            "Predicted Value is Airplane\n"
          ]
        },
        {
          "output_type": "display_data",
          "data": {
            "text/plain": [
              "<Figure size 640x480 with 1 Axes>"
            ],
            "image/png": "[encoded data removed]"
          },
          "metadata": {}
        },
        {
          "output_type": "stream",
          "name": "stdout",
          "text": [
            "------------------\n",
            "\n",
            "\n",
            "Actual Value is Frog\n",
            "Predicted Value is Airplane\n"
          ]
        },
        {
          "output_type": "display_data",
          "data": {
            "text/plain": [
              "<Figure size 640x480 with 1 Axes>"
            ],
            "image/png": "[encoded data removed]"
          },
          "metadata": {}
        },
        {
          "output_type": "stream",
          "name": "stdout",
          "text": [
            "------------------\n",
            "\n",
            "\n",
            "Actual Value is Frog\n",
            "Predicted Value is Airplane\n"
          ]
        },
        {
          "output_type": "display_data",
          "data": {
            "text/plain": [
              "<Figure size 640x480 with 1 Axes>"
            ],
            "image/png": "[encoded data removed]"
          },
          "metadata": {}
        },
        {
          "output_type": "stream",
          "name": "stdout",
          "text": [
            "------------------\n",
            "\n",
            "\n",
            "Actual Value is Automobile\n",
            "Predicted Value is Airplane\n"
          ]
        },
        {
          "output_type": "display_data",
          "data": {
            "text/plain": [
              "<Figure size 640x480 with 1 Axes>"
            ],
            "image/png": "[encoded data removed]"
          },
          "metadata": {}
        },
        {
          "output_type": "stream",
          "name": "stdout",
          "text": [
            "------------------\n",
            "\n",
            "\n",
            "Actual Value is Frog\n",
            "Predicted Value is Airplane\n"
          ]
        },
        {
          "output_type": "display_data",
          "data": {
            "text/plain": [
              "<Figure size 640x480 with 1 Axes>"
            ],
            "image/png": "[encoded data removed]"
          },
          "metadata": {}
        },
        {
          "output_type": "stream",
          "name": "stdout",
          "text": [
            "------------------\n",
            "\n",
            "\n",
            "Actual Value is Cat\n",
            "Predicted Value is Airplane\n"
          ]
        },
        {
          "output_type": "display_data",
          "data": {
            "text/plain": [
              "<Figure size 640x480 with 1 Axes>"
            ],
            "image/png": "[encoded data removed]"
          },
          "metadata": {}
        },
        {
          "output_type": "stream",
          "name": "stdout",
          "text": [
            "------------------\n",
            "\n",
            "\n"
          ]
        }
      ]
    },
    {
      "cell_type": "markdown",
      "source": [
        "As we can see the accuracy of the model is low and the predictions are mostly incorrect\n",
        "\n",
        "The reason for the poor preformance is the lack of computational power.\n",
        "With T4 GPU in colab i was not able to run the model to desiderd epochs as i exhausted the tier limits\n",
        "Traning the model with larger dataset why increaing the epochs with hyperparameter tuning will increase the accuracy\n"
      ],
      "metadata": {
        "id": "OFAZ1L9bay7v"
      }
    }
  ]
}